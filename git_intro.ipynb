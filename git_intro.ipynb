{
 "cells": [
  {
   "cell_type": "markdown",
   "metadata": {},
   "source": [
    "```\n",
    "\n",
    "```\n",
    "\n",
    "```gh auth login``` allows you to sign into GitHub using a web browser."
   ]
  },
  {
   "cell_type": "markdown",
   "metadata": {},
   "source": [
    "```\n",
    "git init\n",
    "```\n",
    "\n",
    "Git init is the command to initialize an empty git project. A git project has three parts:\n",
    "\n",
    "1. A *Working Directory* where you'll be doing work creating, editing, deleting, and organizing.\n",
    "2. A *Staging Area* where you'll list changes you make to the working directory.\n",
    "3. A *Repository* where Git permanently stores those changes as different version of the project.\n",
    "\n",
    "```\n",
    "git status\n",
    "```\n",
    "\n",
    "You can track the status of your project by using 'git status.' We've created a file called scene-1.txt which we've edited.\n",
    "\n",
    "```\n",
    "git add scene-1.txt\n",
    "```\n",
    "\n",
    "We can add that file to the staging area.\n",
    "\n",
    "```\n",
    "git diff scene-1.txt\n",
    "```\n",
    "\n",
    "Allows us to see the differences between the working directory and the staging area.\n",
    "\n",
    "```\n",
    "git commit -m \"Adding changes to the repo\"\n",
    "```\n",
    "\n",
    "Commit allows us to commit changes to the working directory from the staging area. The ```-m``` flag allows us to add a message to the commit. Messages should be brief (50 characters or less), must be in quotes, and be written in the present tense.\n",
    "\n",
    "```\n",
    "git log\n",
    "```\n",
    "\n",
    "Log allows us to refer back to an earlier version of the project stored chronologically. Each entry is identified by a 40 character code called an *SHA*. "
   ]
  },
  {
   "cell_type": "markdown",
   "metadata": {},
   "source": [
    "```\n",
    "git remote add origin https://github.com/wtharper10/git_practice.git\n",
    "git branch -M main\n",
    "git push -u origin main\n",
    "```\n",
    "\n",
    "These commands were generated from my GitHub page after I created a new private repository. We first create a remote repository, branch off of main, and push our local repository to the remote."
   ]
  },
  {
   "cell_type": "markdown",
   "metadata": {},
   "source": [
    "I made some more changes to my README.txt file...\n",
    "\n",
    "```\n",
    "git add README.txt\n",
    "git commit -m \"Second commit with one line\"\n",
    "git branch -M main\n",
    "git push -u origin main\n",
    "git log\n",
    "```"
   ]
  },
  {
   "cell_type": "markdown",
   "metadata": {},
   "source": [
    "# Git Workflows\n",
    "\n",
    "1. Create a branch\n",
    "2. Commit changes\n",
    "3. Create a pull request\n",
    "4. Review pull request\n",
    "5. Merge and delete branch\n",
    "\n",
    "## Branches\n",
    "Allows us to separate our work from the main project. Essentially this makes a new state of the current code which won't affect the main state. One can create as many branches as they'd like and even branch off of branches. Each repo can have one or more branches. The main branch is called ```main```. This is usually the working version and contains production code. Branches should have descriptive names... teams decide on naming conventions. e.g. \"will_feature_dashboard_notifications\" includes information about the author, branch type, and description. Others may include ticket numbers as well.\n",
    "\n",
    "## Commits\n",
    "Where you're saving changes to the branch. Once you have committed all of your changes to the branch, you can push these commits to the remote GitHub repository.\n",
    "\n",
    "## Pull Requests\n",
    "Once your commits have been pushed to a remote repo, you can open a pull request. This allows collaborators to reivew and give feedback on changes before they're merged into the main branch. Include as muchrelevant detail in the description as possible... add comments or images that might be relevant. Stick to smaller pull requests rather than large ones.\n",
    "\n",
    "## Reviewing and Merging\n",
    "Don't comment on *what* should be changed, but *why* it should be changed. Be as clear as possible and make sure to be clear ast ot what to modify. Monitor for scalability and extensibility. Once all feedback is added, collaborators can click \"submit review\" which leads to the pull request being merged into ```main```.\n",
    "\n",
    "## Deleting a Branch\n",
    "Once changes are merged, delete closed branches. This helps to keep things organized and managed."
   ]
  },
  {
   "cell_type": "markdown",
   "metadata": {},
   "source": [
    "# Branching"
   ]
  },
  {
   "cell_type": "markdown",
   "metadata": {},
   "source": [
    "Git allows us to create branches to experiment with versions of a project.\n",
    "\n",
    "To find out what branch you're on: ```git branch```\n",
    "\n",
    "To create a new branch: ```git branch new_branch```\n",
    "\n",
    "To switch to a branch: ```git checkout new_branch```\n",
    "\n",
    "To merge a branch with main: ```git merge new_branch```\n",
    "\n",
    "When merging to main, checkout ```main``` and then merge your branch. This is a 'fast forward' because Git recognizes that ```new_branch``` contains a more recent commit.\n",
    "\n",
    "If you attempt to merge a branch with main and main has commits not found in your branch, it will *conflict*... we need to fix those conflicts before we're able to merge that branch with main. Git uses markings to indicate ```HEAD``` (main) and our branch. To resolve the conflict we need to delete the unwanted content plus all of Git's markings ```>>>>```, ```<<<<```, and ```====```.\n",
    "\n",
    "Once a branch has been merged, it can generally be deleted: ```git branch -d new_branch```"
   ]
  },
  {
   "cell_type": "markdown",
   "metadata": {},
   "source": [
    "# Git Operations"
   ]
  },
  {
   "cell_type": "markdown",
   "metadata": {},
   "source": [
    "## Backtracking \n",
    "\n",
    "If you want to see your most recent commit: ```git show HEAD```\n",
    "\n",
    "If you want to restore to that recent commit: ```git checkout HEAD filename.txt```\n",
    "\n",
    "If you want to see difference between current and recent commit: ```git diff```\n",
    "\n",
    "You can add multiple files at once: ```git add file1.txt file2.txt```\n",
    "\n",
    "You can 'unstage' a file from the staging area: ```git reset HEAD filename.txt```\n",
    "This command resets the file in the staging area to be the same as the HEAD commit, but doesn't discard changes in the working directory. (Remember ```git status``` shows files in the staging area)\n",
    "\n",
    "You can reset to an earlier commit: ```git reset commit_SHA```\n",
    "You will use the first 7 characters of the SHA of the previous commit...\n",
    "\n",
    "## Stash\n",
    "\n",
    "In case you want to save changes without committing them in a branch?: ```git stash```\n",
    "This allows you to get back to a clean commit point with a synchronized working rree and avoid losing local changes. You're 'stashing' local work temporarily in order to update a previous commit. To retrieve that work that was stashed, use ```git stash pop``` You can create multiple stashes... review all ```git stash list```. You can restore a stash (potentially on top of another commit) with ```git stash apply```\n",
    "\n",
    "## Log\n",
    "\n",
    "```git log``` has many more options. \n",
    "\n",
    "To show commits listed in one-line format: ```git log --oneline```\n",
    "\n",
    "To display a list of commits with a keyword: ```git log -S \"keyword\"```\n",
    "\n",
    "To display a visual representation of how branches and commits were created: ```git log --oneline --graph```\n",
    "\n",
    "## Amend\n",
    "\n",
    "You can use the ```--amend``` flag when updating a commit to correct mistakes and edit commits. A commit should ideally be specific, clean, and succint, so small changes can be added to a previous commit. Make those changes, stage them with ```git add```, and use ```git commit --amend```. In this, Git actually replaces the previous commit. You will be promted to update your commit message, but you can retain it by adding ```--no-edit```. \n",
    "\n",
    "## Alias\n",
    "\n",
    "When grouping commands together you can end up writing long lines... but you can create aliases for those commands.\n",
    "\n",
    "```\n",
    "git config --global alias.co \"checkout\"\n",
    "git config --global alias.br \"branch\"\n",
    "git config --global alias.glop \"log --pretty=format:\"%h %s\" --graph\"\n",
    "```\n",
    "Sets aliases for \"checkout\" as \"co\", \"branch\" as \"br\"..."
   ]
  }
 ],
 "metadata": {
  "kernelspec": {
   "display_name": "arcgis_pro_py3_clone_20240808",
   "language": "python",
   "name": "python3"
  },
  "language_info": {
   "codemirror_mode": {
    "name": "ipython",
    "version": 3
   },
   "file_extension": ".py",
   "mimetype": "text/x-python",
   "name": "python",
   "nbconvert_exporter": "python",
   "pygments_lexer": "ipython3",
   "version": "3.11.8"
  }
 },
 "nbformat": 4,
 "nbformat_minor": 2
}
